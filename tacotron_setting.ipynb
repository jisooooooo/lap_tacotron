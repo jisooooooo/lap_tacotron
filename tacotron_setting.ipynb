{
  "nbformat": 4,
  "nbformat_minor": 0,
  "metadata": {
    "colab": {
      "name": "tacotron_setting.ipynb",
      "provenance": [],
      "collapsed_sections": [],
      "authorship_tag": "ABX9TyM3BSMjj48GsOzw7VI0N27A",
      "include_colab_link": true
    },
    "kernelspec": {
      "name": "python3",
      "display_name": "Python 3"
    },
    "accelerator": "GPU"
  },
  "cells": [
    {
      "cell_type": "markdown",
      "metadata": {
        "id": "view-in-github",
        "colab_type": "text"
      },
      "source": [
        "<a href=\"https://colab.research.google.com/github/jisooooooo/lap_tacotron/blob/master/tacotron_setting.ipynb\" target=\"_parent\"><img src=\"https://colab.research.google.com/assets/colab-badge.svg\" alt=\"Open In Colab\"/></a>"
      ]
    },
    {
      "cell_type": "code",
      "metadata": {
        "colab": {
          "base_uri": "https://localhost:8080/"
        },
        "id": "-I5bAd2OjyJa",
        "outputId": "2337856b-6e26-43e4-80c6-d486404c111b"
      },
      "source": [
        "from google.colab import drive\r\n",
        "drive.mount('/content/drive/', force_remount=True)\r\n"
      ],
      "execution_count": 1,
      "outputs": [
        {
          "output_type": "stream",
          "text": [
            "Mounted at /content/drive/\n"
          ],
          "name": "stdout"
        }
      ]
    },
    {
      "cell_type": "code",
      "metadata": {
        "colab": {
          "base_uri": "https://localhost:8080/"
        },
        "id": "uBPgX9N811-M",
        "outputId": "10dff83b-ceb1-4b67-e7a4-cfd1a6eec92b"
      },
      "source": [
        "# tensorflow 1.3.0 버젼 설치\r\n",
        "!pip install tensorflow==1.3.0"
      ],
      "execution_count": null,
      "outputs": [
        {
          "output_type": "stream",
          "text": [
            "Collecting tensorflow==1.3.0\n",
            "\u001b[?25l  Downloading https://files.pythonhosted.org/packages/7c/9f/57e1404fc9345759e4a732c4ab48ab4dd78fd1e60ee1270442b8850fa75f/tensorflow-1.3.0-cp36-cp36m-manylinux1_x86_64.whl (43.5MB)\n",
            "\u001b[K     |████████████████████████████████| 43.6MB 73kB/s \n",
            "\u001b[?25hRequirement already satisfied: protobuf>=3.3.0 in /usr/local/lib/python3.6/dist-packages (from tensorflow==1.3.0) (3.12.4)\n",
            "Requirement already satisfied: six>=1.10.0 in /usr/local/lib/python3.6/dist-packages (from tensorflow==1.3.0) (1.15.0)\n",
            "Requirement already satisfied: numpy>=1.11.0 in /usr/local/lib/python3.6/dist-packages (from tensorflow==1.3.0) (1.19.5)\n",
            "Requirement already satisfied: wheel>=0.26 in /usr/local/lib/python3.6/dist-packages (from tensorflow==1.3.0) (0.36.2)\n",
            "Collecting tensorflow-tensorboard<0.2.0,>=0.1.0\n",
            "\u001b[?25l  Downloading https://files.pythonhosted.org/packages/93/31/bb4111c3141d22bd7b2b553a26aa0c1863c86cb723919e5bd7847b3de4fc/tensorflow_tensorboard-0.1.8-py3-none-any.whl (1.6MB)\n",
            "\u001b[K     |████████████████████████████████| 1.6MB 48.2MB/s \n",
            "\u001b[?25hRequirement already satisfied: setuptools in /usr/local/lib/python3.6/dist-packages (from protobuf>=3.3.0->tensorflow==1.3.0) (53.0.0)\n",
            "Collecting html5lib==0.9999999\n",
            "\u001b[?25l  Downloading https://files.pythonhosted.org/packages/ae/ae/bcb60402c60932b32dfaf19bb53870b29eda2cd17551ba5639219fb5ebf9/html5lib-0.9999999.tar.gz (889kB)\n",
            "\u001b[K     |████████████████████████████████| 890kB 55.3MB/s \n",
            "\u001b[?25hRequirement already satisfied: werkzeug>=0.11.10 in /usr/local/lib/python3.6/dist-packages (from tensorflow-tensorboard<0.2.0,>=0.1.0->tensorflow==1.3.0) (1.0.1)\n",
            "Requirement already satisfied: markdown>=2.6.8 in /usr/local/lib/python3.6/dist-packages (from tensorflow-tensorboard<0.2.0,>=0.1.0->tensorflow==1.3.0) (3.3.3)\n",
            "Collecting bleach==1.5.0\n",
            "  Downloading https://files.pythonhosted.org/packages/33/70/86c5fec937ea4964184d4d6c4f0b9551564f821e1c3575907639036d9b90/bleach-1.5.0-py2.py3-none-any.whl\n",
            "Requirement already satisfied: importlib-metadata; python_version < \"3.8\" in /usr/local/lib/python3.6/dist-packages (from markdown>=2.6.8->tensorflow-tensorboard<0.2.0,>=0.1.0->tensorflow==1.3.0) (3.4.0)\n",
            "Requirement already satisfied: typing-extensions>=3.6.4; python_version < \"3.8\" in /usr/local/lib/python3.6/dist-packages (from importlib-metadata; python_version < \"3.8\"->markdown>=2.6.8->tensorflow-tensorboard<0.2.0,>=0.1.0->tensorflow==1.3.0) (3.7.4.3)\n",
            "Requirement already satisfied: zipp>=0.5 in /usr/local/lib/python3.6/dist-packages (from importlib-metadata; python_version < \"3.8\"->markdown>=2.6.8->tensorflow-tensorboard<0.2.0,>=0.1.0->tensorflow==1.3.0) (3.4.0)\n",
            "Building wheels for collected packages: html5lib\n",
            "  Building wheel for html5lib (setup.py) ... \u001b[?25l\u001b[?25hdone\n",
            "  Created wheel for html5lib: filename=html5lib-0.9999999-cp36-none-any.whl size=107222 sha256=feb7dda0472305c0a2668aac92438a5e979e68bf350256ad5b3cea4f2ec6ebe3\n",
            "  Stored in directory: /root/.cache/pip/wheels/50/ae/f9/d2b189788efcf61d1ee0e36045476735c838898eef1cad6e29\n",
            "Successfully built html5lib\n",
            "Installing collected packages: html5lib, bleach, tensorflow-tensorboard, tensorflow\n",
            "  Found existing installation: html5lib 1.0.1\n",
            "    Uninstalling html5lib-1.0.1:\n",
            "      Successfully uninstalled html5lib-1.0.1\n",
            "  Found existing installation: bleach 3.2.3\n",
            "    Uninstalling bleach-3.2.3:\n",
            "      Successfully uninstalled bleach-3.2.3\n",
            "  Found existing installation: tensorflow 2.4.1\n",
            "    Uninstalling tensorflow-2.4.1:\n",
            "      Successfully uninstalled tensorflow-2.4.1\n",
            "Successfully installed bleach-1.5.0 html5lib-0.9999999 tensorflow-1.3.0 tensorflow-tensorboard-0.1.8\n"
          ],
          "name": "stdout"
        }
      ]
    },
    {
      "cell_type": "code",
      "metadata": {
        "colab": {
          "base_uri": "https://localhost:8080/"
        },
        "id": "7vgxMeeV2PeH",
        "outputId": "de50dfae-9d4f-465f-dc27-8cfc75330e61"
      },
      "source": [
        "# TensorFlow 버전 선택\r\n",
        "%tensorflow_version 1.3.0\r\n",
        "import tensorflow as tf\r\n",
        "print(tf.__version__)"
      ],
      "execution_count": null,
      "outputs": [
        {
          "output_type": "stream",
          "text": [
            "`%tensorflow_version` only switches the major version: 1.x or 2.x.\n",
            "You set: `1.3.0`. This will be interpreted as: `1.x`.\n",
            "\n",
            "\n",
            "TensorFlow 1.x selected.\n",
            "1.15.2\n"
          ],
          "name": "stdout"
        }
      ]
    },
    {
      "cell_type": "code",
      "metadata": {
        "id": "IwU3l5Ob4ESc",
        "colab": {
          "base_uri": "https://localhost:8080/"
        },
        "outputId": "0a726132-09cf-4e14-cf72-008a6de2522b"
      },
      "source": [
        "# 드라이브 경로 이동\r\n",
        "import os\r\n",
        "# cd /content/drive/MyDrive/lap_tacotron\r\n",
        "os.chdir('/content/drive/MyDrive/lap_tacotron/')\r\n",
        "print('현재 경로 확인', os.getcwd())\r\n"
      ],
      "execution_count": null,
      "outputs": [
        {
          "output_type": "stream",
          "text": [
            "현재 경로 확인 /content/drive/MyDrive/lap_tacotron\n"
          ],
          "name": "stdout"
        }
      ]
    },
    {
      "cell_type": "code",
      "metadata": {
        "colab": {
          "base_uri": "https://localhost:8080/"
        },
        "id": "Ig9ZLi_m561E",
        "outputId": "2f039be3-d6f7-4614-fe8d-d321384fafc3"
      },
      "source": [
        "!pwd\r\n",
        "!ls /content/drive/MyDrive/lap_tacotron"
      ],
      "execution_count": null,
      "outputs": [
        {
          "output_type": "stream",
          "text": [
            "/content/drive/My Drive/lap_tacotron\n",
            "app.py\t    download.py  __pycache__\t   scripts\t\t    train.py\n",
            "assets\t    eval.py\t README.md\t   synthesizer.py\t    utils\n",
            "audio\t    hparams.py\t recognition\t   tacotron_불러오기.ipynb  web\n",
            "datasets    LICENSE\t requirements.txt  tacotron_setting.ipynb\n",
            "DISCLAIMER  models\t run.sh\t\t   text\n"
          ],
          "name": "stdout"
        }
      ]
    },
    {
      "cell_type": "code",
      "metadata": {
        "colab": {
          "base_uri": "https://localhost:8080/"
        },
        "id": "aQOWbU_e27kD",
        "outputId": "5b2ca315-6a9a-4b67-9990-83e1b87c4575"
      },
      "source": [
        "# 패키지 설치하기\r\n",
        "!pip install -r requirements.txt"
      ],
      "execution_count": null,
      "outputs": [
        {
          "output_type": "stream",
          "text": [
            "Collecting appnope==0.1.0\n",
            "  Downloading https://files.pythonhosted.org/packages/87/a9/7985e6a53402f294c8f0e8eff3151a83f1fb901fa92909bb3ff29b4d22af/appnope-0.1.0-py2.py3-none-any.whl\n",
            "Collecting audioread==2.1.5\n",
            "  Downloading https://files.pythonhosted.org/packages/21/81/d6dfb88379ab03d7f385c5a2e5ed045af0959418c38ce7cc4efc0fba0da2/audioread-2.1.5.tar.gz\n",
            "Collecting beautifulsoup4==4.6.0\n",
            "\u001b[?25l  Downloading https://files.pythonhosted.org/packages/9e/d4/10f46e5cfac773e22707237bfcd51bbffeaf0a576b0a847ec7ab15bd7ace/beautifulsoup4-4.6.0-py3-none-any.whl (86kB)\n",
            "\u001b[K     |████████████████████████████████| 92kB 10.3MB/s \n",
            "\u001b[?25hCollecting bleach==1.5.0\n",
            "  Downloading https://files.pythonhosted.org/packages/33/70/86c5fec937ea4964184d4d6c4f0b9551564f821e1c3575907639036d9b90/bleach-1.5.0-py2.py3-none-any.whl\n",
            "Requirement already satisfied: bs4==0.0.1 in /usr/local/lib/python3.6/dist-packages (from -r requirements.txt (line 5)) (0.0.1)\n",
            "Collecting cachetools==2.0.1\n",
            "  Downloading https://files.pythonhosted.org/packages/ac/e8/5492fd5ada0b05a1bc485bcb634b559acdec59383eef5c4203b5e22be296/cachetools-2.0.1-py2.py3-none-any.whl\n",
            "Collecting certifi==2017.7.27.1\n",
            "\u001b[?25l  Downloading https://files.pythonhosted.org/packages/40/66/06130724e8205fc8c105db7edb92871c7fff7d31324d7f4405c762624a43/certifi-2017.7.27.1-py2.py3-none-any.whl (349kB)\n",
            "\u001b[K     |████████████████████████████████| 358kB 46.5MB/s \n",
            "\u001b[?25hRequirement already satisfied: chardet==3.0.4 in /usr/local/lib/python3.6/dist-packages (from -r requirements.txt (line 8)) (3.0.4)\n",
            "Collecting click==6.7\n",
            "\u001b[?25l  Downloading https://files.pythonhosted.org/packages/34/c1/8806f99713ddb993c5366c362b2f908f18269f8d792aff1abfd700775a77/click-6.7-py2.py3-none-any.whl (71kB)\n",
            "\u001b[K     |████████████████████████████████| 71kB 8.3MB/s \n",
            "\u001b[?25hRequirement already satisfied: cycler==0.10.0 in /usr/local/lib/python3.6/dist-packages (from -r requirements.txt (line 10)) (0.10.0)\n",
            "Collecting decorator==4.1.2\n",
            "  Downloading https://files.pythonhosted.org/packages/a1/4e/c42167ba5c3192bed633726d39d7896cc55d4fa3ec4a1fb60cd3a53fc4c7/decorator-4.1.2-py2.py3-none-any.whl\n",
            "Collecting dill==0.2.7.1\n",
            "\u001b[?25l  Downloading https://files.pythonhosted.org/packages/91/a0/19d4d31dee064fc553ae01263b5c55e7fb93daff03a69debbedee647c5a0/dill-0.2.7.1.tar.gz (64kB)\n",
            "\u001b[K     |████████████████████████████████| 71kB 10.5MB/s \n",
            "\u001b[?25hCollecting ffprobe==0.5\n",
            "  Downloading https://files.pythonhosted.org/packages/95/9c/adf90d21108d41f611aa921defd2f2e56d3f92724e4b5aa41fae7a9972aa/ffprobe-0.5.zip\n",
            "Collecting Flask==0.12.2\n",
            "\u001b[?25l  Downloading https://files.pythonhosted.org/packages/77/32/e3597cb19ffffe724ad4bf0beca4153419918e7fa4ba6a34b04ee4da3371/Flask-0.12.2-py2.py3-none-any.whl (83kB)\n",
            "\u001b[K     |████████████████████████████████| 92kB 13.1MB/s \n",
            "\u001b[?25hCollecting Flask-Cors==3.0.3\n",
            "  Downloading https://files.pythonhosted.org/packages/83/a7/c7243ffd096a491013956c9ee71e2ed0b7d14979fafe89986ca2d30fc6f7/Flask_Cors-3.0.3-py2.py3-none-any.whl\n",
            "Requirement already satisfied: future==0.16.0 in /usr/local/lib/python3.6/dist-packages (from -r requirements.txt (line 16)) (0.16.0)\n",
            "Collecting gapic-google-cloud-datastore-v1==0.15.3\n",
            "  Downloading https://files.pythonhosted.org/packages/ec/9c/6d69a6e6551006c4e87192a396b983421a6978bc57657619bc998a264b31/gapic-google-cloud-datastore-v1-0.15.3.tar.gz\n",
            "Collecting gapic-google-cloud-error-reporting-v1beta1==0.15.3\n",
            "  Downloading https://files.pythonhosted.org/packages/03/fb/903f4cb88a442e05ec789329aef76da0d3f841a66909e9b5bc39527e0ef7/gapic-google-cloud-error-reporting-v1beta1-0.15.3.tar.gz\n",
            "Collecting gapic-google-cloud-logging-v2==0.91.3\n",
            "  Downloading https://files.pythonhosted.org/packages/aa/a8/2fcb30c255243d0b5b1a1c4b3cd0a73ca87c82f8a6673be60fb003a6e184/gapic-google-cloud-logging-v2-0.91.3.tar.gz\n",
            "Collecting gapic-google-cloud-pubsub-v1==0.15.4\n",
            "  Downloading https://files.pythonhosted.org/packages/bc/a7/0225bd7a95e037a0afa90b2dd9534d0c79cd62283a5bddb30a3197579cbc/gapic-google-cloud-pubsub-v1-0.15.4.tar.gz\n",
            "Collecting gapic-google-cloud-spanner-admin-database-v1==0.15.3\n",
            "  Downloading https://files.pythonhosted.org/packages/ae/f5/6793b06c02e7a9a0a9744188214920b5c9f5c6f3e6179c13ea5c3cd937ff/gapic-google-cloud-spanner-admin-database-v1-0.15.3.tar.gz\n",
            "Collecting gapic-google-cloud-spanner-admin-instance-v1==0.15.3\n",
            "  Downloading https://files.pythonhosted.org/packages/7f/80/47cc217a14fcbfc85ab316077f9f92d06ddd08cec14c60d1d77e4c370d50/gapic-google-cloud-spanner-admin-instance-v1-0.15.3.tar.gz\n",
            "Collecting gapic-google-cloud-spanner-v1==0.15.3\n",
            "  Downloading https://files.pythonhosted.org/packages/65/7c/c5e8c27b280d1209e65b639818912e31412fdf1e216ca7b71af5674d3d08/gapic-google-cloud-spanner-v1-0.15.3.tar.gz\n",
            "Collecting google-auth==1.1.1\n",
            "\u001b[?25l  Downloading https://files.pythonhosted.org/packages/ee/6a/2ddef280665a729ce0f1bd7f6ed0a1ee9958e89b4934066a55cb2e424e0a/google_auth-1.1.1-py2.py3-none-any.whl (60kB)\n",
            "\u001b[K     |████████████████████████████████| 61kB 10.2MB/s \n",
            "\u001b[?25hCollecting google-cloud==0.27.0\n",
            "  Downloading https://files.pythonhosted.org/packages/fe/f8/8f6ae14c6d5b75feaa27b19081f8c5350f1f67858d591b6ada4006228dd9/google_cloud-0.27.0-py2.py3-none-any.whl\n",
            "Collecting google-cloud-bigquery==0.26.0\n",
            "\u001b[?25l  Downloading https://files.pythonhosted.org/packages/40/04/40480d01d4acb60761008c97a83197cd2f2043d9690e6bf99f8cd67b12e6/google_cloud_bigquery-0.26.0-py2.py3-none-any.whl (53kB)\n",
            "\u001b[K     |████████████████████████████████| 61kB 10.6MB/s \n",
            "\u001b[?25hCollecting google-cloud-bigtable==0.26.0\n",
            "\u001b[?25l  Downloading https://files.pythonhosted.org/packages/3d/13/353bd6f748ce7b2c33c707e5c92770648dfa8798f230272a6af8e636df65/google_cloud_bigtable-0.26.0-py2.py3-none-any.whl (86kB)\n",
            "\u001b[K     |████████████████████████████████| 92kB 14.5MB/s \n",
            "\u001b[?25hCollecting google-cloud-core==0.26.0\n",
            "  Downloading https://files.pythonhosted.org/packages/19/b7/94155a5e4f41eba3dfdd557481c95c3763199fb2043294b49e5feb008e91/google_cloud_core-0.26.0-py2.py3-none-any.whl\n",
            "Collecting google-cloud-datastore==1.2.0\n",
            "\u001b[?25l  Downloading https://files.pythonhosted.org/packages/ab/04/c261a6236a846dd2aeb4dd74ac7ddc8012b00434a9661d31ad8b7a9bd9b6/google_cloud_datastore-1.2.0-py2.py3-none-any.whl (43kB)\n",
            "\u001b[K     |████████████████████████████████| 51kB 9.3MB/s \n",
            "\u001b[?25hCollecting google-cloud-dns==0.26.0\n",
            "  Downloading https://files.pythonhosted.org/packages/75/1e/3b83ca2ef7827fa5223f3f59f05d042ffa29ed51946246d100cdef0b2f96/google_cloud_dns-0.26.0-py2.py3-none-any.whl\n",
            "Collecting google-cloud-error-reporting==0.26.0\n",
            "  Downloading https://files.pythonhosted.org/packages/cf/f1/ccc522be24f2d8cfa673152d73de12c47d18bac50ab8a75f3d3e2d79a53e/google_cloud_error_reporting-0.26.0-py2.py3-none-any.whl\n",
            "Collecting google-cloud-language==0.27.0\n",
            "\u001b[?25l  Downloading https://files.pythonhosted.org/packages/e3/e9/dd60745f768110f2e00dbe51c85786bb607285d62bad21d37502a91eb1be/google_cloud_language-0.27.0-py2.py3-none-any.whl (71kB)\n",
            "\u001b[K     |████████████████████████████████| 71kB 10.9MB/s \n",
            "\u001b[?25hCollecting google-cloud-logging==1.2.0\n",
            "\u001b[?25l  Downloading https://files.pythonhosted.org/packages/df/37/fbabf4a4aacf1ac6ebfdddf86ecbeead832d5dce893fe41cecd05a79ab8c/google_cloud_logging-1.2.0-py2.py3-none-any.whl (43kB)\n",
            "\u001b[K     |████████████████████████████████| 51kB 6.7MB/s \n",
            "\u001b[?25hCollecting google-cloud-monitoring==0.26.0\n",
            "  Downloading https://files.pythonhosted.org/packages/2e/4f/1f6a387f3e0c4f11b240ad46d46ea251738d850bcf3f7384e440e50f7942/google_cloud_monitoring-0.26.0-py2.py3-none-any.whl\n",
            "Collecting google-cloud-pubsub==0.27.0\n",
            "  Downloading https://files.pythonhosted.org/packages/4d/d9/308ee18667d1627e3ee753d5d66ad66f02885cb7cc2e4f262a086c0d07f4/google_cloud_pubsub-0.27.0-py2.py3-none-any.whl\n",
            "Collecting google-cloud-resource-manager==0.26.0\n",
            "  Downloading https://files.pythonhosted.org/packages/82/2a/1d08633b760311e9d4e477ccd61b7a4895be2b0bf4e4ec9851d16115a672/google_cloud_resource_manager-0.26.0-py2.py3-none-any.whl\n",
            "Collecting google-cloud-runtimeconfig==0.26.0\n",
            "  Downloading https://files.pythonhosted.org/packages/4a/b9/c1bcbb498049d29f2c5ba913b7cea8e5c5895a27303c396bb5e48009e82b/google_cloud_runtimeconfig-0.26.0-py2.py3-none-any.whl\n",
            "Collecting google-cloud-spanner==0.26.0\n",
            "  Downloading https://files.pythonhosted.org/packages/53/6d/68242fbb0a9d3722a1a8c78e3fc1cb0f40c3b6433cb61ef860a6d83a1b51/google_cloud_spanner-0.26.0-py2.py3-none-any.whl\n",
            "Collecting google-cloud-speech==0.28.0\n",
            "\u001b[?25l  Downloading https://files.pythonhosted.org/packages/2d/0a/404bc0684309d33e49dc229594dddaf037759c0d1bad47e7a17673ec1ecb/google_cloud_speech-0.28.0-py2.py3-none-any.whl (42kB)\n",
            "\u001b[K     |████████████████████████████████| 51kB 9.0MB/s \n",
            "\u001b[?25hCollecting google-cloud-storage==1.3.2\n",
            "\u001b[?25l  Downloading https://files.pythonhosted.org/packages/50/52/3977223dce32507485ff3603c57c31800f53d49b77cdf655de89c7f25271/google_cloud_storage-1.3.2-py2.py3-none-any.whl (46kB)\n",
            "\u001b[K     |████████████████████████████████| 51kB 5.0MB/s \n",
            "\u001b[?25hCollecting google-cloud-translate==1.1.0\n",
            "  Downloading https://files.pythonhosted.org/packages/1d/79/f4615693da1ee5e908e40e89ebea93c3b988e90cc10a9383a6629844d224/google_cloud_translate-1.1.0-py2.py3-none-any.whl\n",
            "Collecting google-cloud-videointelligence==0.25.0\n",
            "  Downloading https://files.pythonhosted.org/packages/19/d9/5f951ac3cb23e60e3dab1ddd0c8469e32a4ca3f71e0acbd0a339c18e5595/google_cloud_videointelligence-0.25.0-py2.py3-none-any.whl\n",
            "Collecting google-cloud-vision==0.26.0\n",
            "\u001b[?25l  Downloading https://files.pythonhosted.org/packages/81/65/00485c5b3fab125a28fba4516a12f59ab9771c3b185254d69753ee4fd33a/google_cloud_vision-0.26.0-py2.py3-none-any.whl (68kB)\n",
            "\u001b[K     |████████████████████████████████| 71kB 11.5MB/s \n",
            "\u001b[?25hCollecting google-api-core==1.1.2\n",
            "\u001b[?25l  Downloading https://files.pythonhosted.org/packages/76/30/c893dfc10b118f9b6720d71baf933bd10fd062ee645313c70b28c9e98659/google_api_core-1.1.2-py2.py3-none-any.whl (50kB)\n",
            "\u001b[K     |████████████████████████████████| 51kB 8.9MB/s \n",
            "\u001b[?25hCollecting google-resumable-media==0.3.0\n",
            "  Downloading https://files.pythonhosted.org/packages/7c/da/ca2487b2a56a9eac2d13cb0dfcd8cfef061e3fd6abc8fd2826b80650c16a/google_resumable_media-0.3.0-py2.py3-none-any.whl\n",
            "Collecting googleapis-common-protos==1.5.3\n",
            "  Downloading https://files.pythonhosted.org/packages/00/03/d25bed04ec8d930bcfa488ba81a2ecbf7eb36ae3ffd7e8f5be0d036a89c9/googleapis-common-protos-1.5.3.tar.gz\n",
            "Collecting grpc-google-iam-v1==0.11.4\n",
            "  Downloading https://files.pythonhosted.org/packages/9b/28/f26f67381cb23e81271b8d66c00a846ad9d25a909ae1ae1df8222fad2744/grpc-google-iam-v1-0.11.4.tar.gz\n",
            "Collecting grpcio==1.6.3\n",
            "\u001b[?25l  Downloading https://files.pythonhosted.org/packages/0a/b3/3be1cb89d43b016bb3204b1c3ed8cd53edafc744dac6b9869f46f860400a/grpcio-1.6.3-cp36-cp36m-manylinux1_x86_64.whl (5.7MB)\n",
            "\u001b[K     |████████████████████████████████| 5.7MB 21.2MB/s \n",
            "\u001b[?25hCollecting html5lib==0.9999999\n",
            "\u001b[?25l  Downloading https://files.pythonhosted.org/packages/ae/ae/bcb60402c60932b32dfaf19bb53870b29eda2cd17551ba5639219fb5ebf9/html5lib-0.9999999.tar.gz (889kB)\n",
            "\u001b[K     |████████████████████████████████| 890kB 44.4MB/s \n",
            "\u001b[?25hCollecting httplib2==0.10.3\n",
            "\u001b[?25l  Downloading https://files.pythonhosted.org/packages/e4/2e/a7e27d2c36076efeb8c0e519758968b20389adf57a9ce3af139891af2696/httplib2-0.10.3.tar.gz (204kB)\n",
            "\u001b[K     |████████████████████████████████| 204kB 56.8MB/s \n",
            "\u001b[?25hCollecting idna==2.6\n",
            "\u001b[?25l  Downloading https://files.pythonhosted.org/packages/27/cc/6dd9a3869f15c2edfab863b992838277279ce92663d334df9ecf5106f5c6/idna-2.6-py2.py3-none-any.whl (56kB)\n",
            "\u001b[K     |████████████████████████████████| 61kB 10.5MB/s \n",
            "\u001b[?25hCollecting ipdb==0.10.3\n",
            "  Downloading https://files.pythonhosted.org/packages/ad/cc/0e7298e1fbf2efd52667c9354a12aa69fb6f796ce230cca03525051718ef/ipdb-0.10.3.tar.gz\n",
            "Collecting ipython==6.2.1\n",
            "\u001b[?25l  Downloading https://files.pythonhosted.org/packages/e1/87/294b718125085559b56453be87d90777863173470167e5f1d5de20b9eea3/ipython-6.2.1-py3-none-any.whl (745kB)\n",
            "\u001b[K     |████████████████████████████████| 747kB 50.6MB/s \n",
            "\u001b[?25hRequirement already satisfied: ipython-genutils==0.2.0 in /usr/local/lib/python3.6/dist-packages (from -r requirements.txt (line 54)) (0.2.0)\n",
            "Collecting iso8601==0.1.12\n",
            "  Downloading https://files.pythonhosted.org/packages/ef/57/7162609dab394d38bbc7077b7ba0a6f10fb09d8b7701ea56fa1edc0c4345/iso8601-0.1.12-py2.py3-none-any.whl\n",
            "Collecting itsdangerous==0.24\n",
            "\u001b[?25l  Downloading https://files.pythonhosted.org/packages/dc/b4/a60bcdba945c00f6d608d8975131ab3f25b22f2bcfe1dab221165194b2d4/itsdangerous-0.24.tar.gz (46kB)\n",
            "\u001b[K     |████████████████████████████████| 51kB 8.9MB/s \n",
            "\u001b[?25hCollecting jamo==0.4.1\n",
            "  Downloading https://files.pythonhosted.org/packages/ac/cc/49812faae67f9a24be6ddaf58a2cf7e8c3cbfcf5b762d9414f7103d2ea2c/jamo-0.4.1-py3-none-any.whl\n",
            "Collecting jedi==0.11.0\n",
            "\u001b[?25l  Downloading https://files.pythonhosted.org/packages/fb/a8/25978660f20b05b982b54dde61bdd515bc2683f84c906ad7fb8eb1aca517/jedi-0.11.0-py2.py3-none-any.whl (146kB)\n",
            "\u001b[K     |████████████████████████████████| 153kB 58.9MB/s \n",
            "\u001b[?25hCollecting Jinja2==2.9.6\n",
            "\u001b[?25l  Downloading https://files.pythonhosted.org/packages/5e/73/10c45b82a88ed6b7751bd40da31eeefd7b362e07b56a99aa6e56655a0794/Jinja2-2.9.6-py2.py3-none-any.whl (340kB)\n",
            "\u001b[K     |████████████████████████████████| 348kB 52.7MB/s \n",
            "\u001b[?25hCollecting joblib==0.11\n",
            "\u001b[?25l  Downloading https://files.pythonhosted.org/packages/4f/51/870b2ec270fc29c5d89f85353da420606a9cb39fba4747127e7c7d7eb25d/joblib-0.11-py2.py3-none-any.whl (176kB)\n",
            "\u001b[K     |████████████████████████████████| 184kB 64.0MB/s \n",
            "\u001b[?25hCollecting librosa==0.5.1\n",
            "\u001b[?25l  Downloading https://files.pythonhosted.org/packages/51/c2/d8d8498252a2430ec9b90481754aca287c0ecc237a8feb331fa3b8933575/librosa-0.5.1.tar.gz (1.5MB)\n",
            "\u001b[K     |████████████████████████████████| 1.5MB 52.3MB/s \n",
            "\u001b[?25hCollecting llvmlite==0.20.0\n",
            "\u001b[?25l  Downloading https://files.pythonhosted.org/packages/0c/d1/62204ba18647c091fde8c9af99d7aac3de6f7d776d5282e0da8a118b5e51/llvmlite-0.20.0-cp36-cp36m-manylinux1_x86_64.whl (13.3MB)\n",
            "\u001b[K     |████████████████████████████████| 13.3MB 252kB/s \n",
            "\u001b[?25hCollecting m3u8==0.3.3\n",
            "  Downloading https://files.pythonhosted.org/packages/ac/47/b6f790ef3f96a907e24e12705a99ac4a7fba1e0474751567c1babadccbc0/m3u8-0.3.3.tar.gz\n",
            "Collecting Markdown==2.6.9\n",
            "\u001b[?25l  Downloading https://files.pythonhosted.org/packages/29/82/dfe242bcfd9eec0e7bf93a80a8f8d8515a95b980c44f5c0b45606397a423/Markdown-2.6.9.tar.gz (271kB)\n",
            "\u001b[K     |████████████████████████████████| 276kB 54.6MB/s \n",
            "\u001b[?25hCollecting MarkupSafe==1.0\n",
            "  Downloading https://files.pythonhosted.org/packages/4d/de/32d741db316d8fdb7680822dd37001ef7a448255de9699ab4bfcbdf4172b/MarkupSafe-1.0.tar.gz\n",
            "\u001b[31mERROR: Command errored out with exit status 1: python setup.py egg_info Check the logs for full command output.\u001b[0m\n"
          ],
          "name": "stdout"
        }
      ]
    },
    {
      "cell_type": "code",
      "metadata": {
        "colab": {
          "base_uri": "https://localhost:8080/",
          "height": 706
        },
        "id": "kifEZ03j6W98",
        "outputId": "e2fb649b-06c2-4d96-db79-058247f646bc"
      },
      "source": [
        "!pip install tensorflow-gpu==1.3.0"
      ],
      "execution_count": null,
      "outputs": [
        {
          "output_type": "stream",
          "text": [
            "Collecting tensorflow-gpu==1.3.0\n",
            "\u001b[?25l  Downloading https://files.pythonhosted.org/packages/b8/16/14fbe414f2b3c39c5d01521e38e7aaec384f8fbf26eec021d247345260c3/tensorflow_gpu-1.3.0-cp36-cp36m-manylinux1_x86_64.whl (159.1MB)\n",
            "\u001b[K     |████████████████████████████████| 159.1MB 78kB/s \n",
            "\u001b[?25hCollecting tensorflow-tensorboard<0.2.0,>=0.1.0\n",
            "\u001b[?25l  Downloading https://files.pythonhosted.org/packages/93/31/bb4111c3141d22bd7b2b553a26aa0c1863c86cb723919e5bd7847b3de4fc/tensorflow_tensorboard-0.1.8-py3-none-any.whl (1.6MB)\n",
            "\u001b[K     |████████████████████████████████| 1.6MB 51.0MB/s \n",
            "\u001b[?25hRequirement already satisfied: wheel>=0.26 in /usr/local/lib/python3.6/dist-packages (from tensorflow-gpu==1.3.0) (0.36.2)\n",
            "Requirement already satisfied: numpy>=1.11.0 in /usr/local/lib/python3.6/dist-packages (from tensorflow-gpu==1.3.0) (1.19.5)\n",
            "Requirement already satisfied: protobuf>=3.3.0 in /usr/local/lib/python3.6/dist-packages (from tensorflow-gpu==1.3.0) (3.12.4)\n",
            "Requirement already satisfied: six>=1.10.0 in /usr/local/lib/python3.6/dist-packages (from tensorflow-gpu==1.3.0) (1.15.0)\n",
            "Collecting html5lib==0.9999999\n",
            "  Using cached https://files.pythonhosted.org/packages/ae/ae/bcb60402c60932b32dfaf19bb53870b29eda2cd17551ba5639219fb5ebf9/html5lib-0.9999999.tar.gz\n",
            "Requirement already satisfied: markdown>=2.6.8 in /usr/local/lib/python3.6/dist-packages (from tensorflow-tensorboard<0.2.0,>=0.1.0->tensorflow-gpu==1.3.0) (3.3.3)\n",
            "Requirement already satisfied: werkzeug>=0.11.10 in /usr/local/lib/python3.6/dist-packages (from tensorflow-tensorboard<0.2.0,>=0.1.0->tensorflow-gpu==1.3.0) (1.0.1)\n",
            "Collecting bleach==1.5.0\n",
            "  Using cached https://files.pythonhosted.org/packages/33/70/86c5fec937ea4964184d4d6c4f0b9551564f821e1c3575907639036d9b90/bleach-1.5.0-py2.py3-none-any.whl\n",
            "Requirement already satisfied: setuptools in /usr/local/lib/python3.6/dist-packages (from protobuf>=3.3.0->tensorflow-gpu==1.3.0) (53.0.0)\n",
            "Requirement already satisfied: importlib-metadata; python_version < \"3.8\" in /usr/local/lib/python3.6/dist-packages (from markdown>=2.6.8->tensorflow-tensorboard<0.2.0,>=0.1.0->tensorflow-gpu==1.3.0) (3.4.0)\n",
            "Requirement already satisfied: zipp>=0.5 in /usr/local/lib/python3.6/dist-packages (from importlib-metadata; python_version < \"3.8\"->markdown>=2.6.8->tensorflow-tensorboard<0.2.0,>=0.1.0->tensorflow-gpu==1.3.0) (3.4.0)\n",
            "Requirement already satisfied: typing-extensions>=3.6.4; python_version < \"3.8\" in /usr/local/lib/python3.6/dist-packages (from importlib-metadata; python_version < \"3.8\"->markdown>=2.6.8->tensorflow-tensorboard<0.2.0,>=0.1.0->tensorflow-gpu==1.3.0) (3.7.4.3)\n",
            "Building wheels for collected packages: html5lib\n",
            "  Building wheel for html5lib (setup.py) ... \u001b[?25l\u001b[?25hdone\n",
            "  Created wheel for html5lib: filename=html5lib-0.9999999-cp36-none-any.whl size=107222 sha256=8e6f9ad395b1c2ea33db24a5d878c43803ae84607d3b9af17637181c5483c610\n",
            "  Stored in directory: /root/.cache/pip/wheels/50/ae/f9/d2b189788efcf61d1ee0e36045476735c838898eef1cad6e29\n",
            "Successfully built html5lib\n",
            "Installing collected packages: html5lib, bleach, tensorflow-tensorboard, tensorflow-gpu\n",
            "  Found existing installation: html5lib 1.0.1\n",
            "    Uninstalling html5lib-1.0.1:\n",
            "      Successfully uninstalled html5lib-1.0.1\n",
            "  Found existing installation: bleach 3.3.0\n",
            "    Uninstalling bleach-3.3.0:\n",
            "      Successfully uninstalled bleach-3.3.0\n",
            "Successfully installed bleach-1.5.0 html5lib-0.9999999 tensorflow-gpu-1.3.0 tensorflow-tensorboard-0.1.8\n"
          ],
          "name": "stdout"
        },
        {
          "output_type": "display_data",
          "data": {
            "application/vnd.colab-display-data+json": {
              "pip_warning": {
                "packages": [
                  "tensorboard",
                  "tensorflow"
                ]
              }
            }
          },
          "metadata": {
            "tags": []
          }
        }
      ]
    },
    {
      "cell_type": "code",
      "metadata": {
        "colab": {
          "base_uri": "https://localhost:8080/"
        },
        "id": "ngu3xjmv6poR",
        "outputId": "9d3eec7c-e612-486a-b1f0-4dec3e38dd69"
      },
      "source": [
        "# Nltk punkt 데이터 다운\r\n",
        "# python3 -c \"import nltk; nltk.download('punkt')\"\r\n",
        "import nltk; nltk.download('punkt')"
      ],
      "execution_count": null,
      "outputs": [
        {
          "output_type": "stream",
          "text": [
            "[nltk_data] Downloading package punkt to /root/nltk_data...\n",
            "[nltk_data]   Unzipping tokenizers/punkt.zip.\n"
          ],
          "name": "stdout"
        },
        {
          "output_type": "execute_result",
          "data": {
            "text/plain": [
              "True"
            ]
          },
          "metadata": {
            "tags": []
          },
          "execution_count": 7
        }
      ]
    },
    {
      "cell_type": "code",
      "metadata": {
        "colab": {
          "base_uri": "https://localhost:8080/"
        },
        "id": "wtk91CPHH0da",
        "outputId": "4f8ee2b3-a908-40ad-c06b-ac66b74bc7a5"
      },
      "source": [
        "!pip install m3u8==0.3.3"
      ],
      "execution_count": null,
      "outputs": [
        {
          "output_type": "stream",
          "text": [
            "Collecting m3u8==0.3.3\n",
            "  Using cached https://files.pythonhosted.org/packages/ac/47/b6f790ef3f96a907e24e12705a99ac4a7fba1e0474751567c1babadccbc0/m3u8-0.3.3.tar.gz\n",
            "Collecting iso8601\n",
            "  Downloading https://files.pythonhosted.org/packages/f5/c7/06b5938e79a09112a256f26a1ae0551b04bc6aafcb71fd7ee2390c2c54c6/iso8601-0.1.13-py2.py3-none-any.whl\n",
            "Building wheels for collected packages: m3u8\n",
            "  Building wheel for m3u8 (setup.py) ... \u001b[?25l\u001b[?25hdone\n",
            "  Created wheel for m3u8: filename=m3u8-0.3.3-cp36-none-any.whl size=15063 sha256=76cc9d1a1e9bc3237141d3b58258c115f085832b57b0ab836877e053e780e5c5\n",
            "  Stored in directory: /root/.cache/pip/wheels/5d/2d/e5/39d0f5b4872777a137e285b67eedaa6f69346d85ea8a13b8c6\n",
            "Successfully built m3u8\n",
            "Installing collected packages: iso8601, m3u8\n",
            "Successfully installed iso8601-0.1.13 m3u8-0.3.3\n"
          ],
          "name": "stdout"
        }
      ]
    },
    {
      "cell_type": "code",
      "metadata": {
        "colab": {
          "base_uri": "https://localhost:8080/"
        },
        "id": "j6-KnOJN9tB6",
        "outputId": "c084edf1-16f9-410a-c11b-7990a0cadc96"
      },
      "source": [
        "# 필요한 한국어 data set 설정\r\n",
        "# datasets/son/download.py 불러오기\r\n",
        "import os.path\r\n",
        "import os\r\n",
        "import sys\r\n",
        "# sys.path.append('./datasets/son')\r\n",
        "# from son import download\r\n",
        "\r\n",
        "%run datasets/son/download.py\r\n",
        "\r\n"
      ],
      "execution_count": null,
      "outputs": [
        {
          "output_type": "stream",
          "text": [
            "Download news video+text: 100%|██████████| 946/946 [4:04:54<00:00, 15.53s/it]\n"
          ],
          "name": "stderr"
        }
      ]
    },
    {
      "cell_type": "code",
      "metadata": {
        "colab": {
          "base_uri": "https://localhost:8080/"
        },
        "id": "n_r2meIYh7DO",
        "outputId": "872d434f-4011-4633-c140-718d43c3f638"
      },
      "source": [
        "!pip install pydub==0.20.0\r\n",
        "# from pydub import silence   "
      ],
      "execution_count": null,
      "outputs": [
        {
          "output_type": "stream",
          "text": [
            "Collecting pydub==0.20.0\n",
            "  Downloading https://files.pythonhosted.org/packages/6b/a5/8a863766dca1a1334a0b0219442a7af0947860ffb8a8266a1d7a43126702/pydub-0.20.0-py2.py3-none-any.whl\n",
            "Installing collected packages: pydub\n",
            "Successfully installed pydub-0.20.0\n"
          ],
          "name": "stdout"
        }
      ]
    },
    {
      "cell_type": "code",
      "metadata": {
        "colab": {
          "base_uri": "https://localhost:8080/"
        },
        "id": "toNIB4GBCRXn",
        "outputId": "ad980578-f572-4aa6-8279-69277cfb5e3b"
      },
      "source": [
        "!pip install hparams"
      ],
      "execution_count": null,
      "outputs": [
        {
          "output_type": "stream",
          "text": [
            "Collecting hparams\n",
            "  Downloading https://files.pythonhosted.org/packages/2f/ec/bcc7011ec23390ac0ccafd031ad9f850430390b4ed3a8b1550788b7fe586/hparams-0.3.0-py3-none-any.whl\n",
            "Requirement already satisfied: typeguard in /usr/local/lib/python3.6/dist-packages (from hparams) (2.7.1)\n",
            "Installing collected packages: hparams\n",
            "Successfully installed hparams-0.3.0\n"
          ],
          "name": "stdout"
        }
      ]
    },
    {
      "cell_type": "code",
      "metadata": {
        "colab": {
          "base_uri": "https://localhost:8080/"
        },
        "id": "Nobo1Tl3yUtv",
        "outputId": "3e7da15d-9ce4-4fbd-fcdb-7df3d704ee54"
      },
      "source": [
        "import os.path\r\n",
        "import os\r\n",
        "import sys\r\n",
        "print(sys.path)"
      ],
      "execution_count": null,
      "outputs": [
        {
          "output_type": "stream",
          "text": [
            "['/tensorflow-1.15.2/python3.6', '', '/env/python', '/usr/lib/python36.zip', '/usr/lib/python3.6', '/usr/lib/python3.6/lib-dynload', '/usr/local/lib/python3.6/dist-packages', '/usr/lib/python3/dist-packages', '/usr/local/lib/python3.6/dist-packages/IPython/extensions', '/root/.ipython']\n"
          ],
          "name": "stdout"
        }
      ]
    },
    {
      "cell_type": "code",
      "metadata": {
        "id": "7AzCvIhpxmJT",
        "colab": {
          "base_uri": "https://localhost:8080/"
        },
        "outputId": "1455ac6b-b024-45db-aece-859b65076e00"
      },
      "source": [
        "# 침묵 구간을 기준으로 audio 자르기\r\n",
        "import os\r\n",
        "import sys\r\n",
        "\r\n",
        "# 파일 import를 위해 절대경로 설정\r\n",
        "my_path = \"/content/drive/MyDrive/lap_tacotron\"\r\n",
        "sys.path.append(os.path.abspath(my_path))\r\n",
        "# python3 -m audio.silence --audio_pattern \"./datasets/son/audio/*.wav\" --method=pydub\r\n",
        "!python './audio/silence.py' --audio_pattern \"./datasets/son/audio/*.wav\" --method=pydub\r\n"
      ],
      "execution_count": null,
      "outputs": [
        {
          "output_type": "stream",
          "text": [
            "경로확인 /content/drive/MyDrive/lap_tacotron\n",
            "경로확인 /content/drive/MyDrive/lap_tacotron\n",
            "Split on silence: 100% 946/946 [4:17:40<00:00, 16.34s/it]\n"
          ],
          "name": "stdout"
        }
      ]
    },
    {
      "cell_type": "code",
      "metadata": {
        "colab": {
          "base_uri": "https://localhost:8080/"
        },
        "id": "V3K3bpU_Zy15",
        "outputId": "1eca46ca-7e30-460f-8a74-291a68de9877"
      },
      "source": [
        "!pwd"
      ],
      "execution_count": null,
      "outputs": [
        {
          "output_type": "stream",
          "text": [
            "/content/drive/My Drive/lap_tacotron\n"
          ],
          "name": "stdout"
        }
      ]
    },
    {
      "cell_type": "markdown",
      "metadata": {
        "id": "2nE12b8sj0JB"
      },
      "source": [
        ""
      ]
    }
  ]
}